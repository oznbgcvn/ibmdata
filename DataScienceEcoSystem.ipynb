{
 "cells": [
  {
   "cell_type": "markdown",
   "id": "37ec2628-8b5c-4941-9962-edac28bd503b",
   "metadata": {},
   "source": [
    "Data Science Tools and Ecosystem"
   ]
  },
  {
   "cell_type": "markdown",
   "id": "480e9da3-d26c-45e7-bce7-35b1453cb188",
   "metadata": {},
   "source": [
    "This notebook summarizes Data Science Tools for you."
   ]
  },
  {
   "cell_type": "markdown",
   "id": "936afe15-4757-40cb-a853-8a292eaa642e",
   "metadata": {
    "tags": []
   },
   "source": [
    "## Objectives:\n",
    "Pupular Data Science Tools\n",
    "1. Python\n",
    "2. Sql\n",
    "3. R"
   ]
  },
  {
   "cell_type": "markdown",
   "id": "b849c46a-a296-418e-bd5f-3ce8a4997039",
   "metadata": {},
   "source": [
    "Some of the popular languages that Data Scientists use are:\n",
    "1. Python\n",
    "2. R\n",
    "3. SQL"
   ]
  },
  {
   "cell_type": "markdown",
   "id": "1bc17914-c759-4356-b1b0-6cb1dcd34122",
   "metadata": {},
   "source": [
    "Some of the commonly used libraries used by Data Scientists include:\n",
    "1. Pandas\n",
    "2. Matplotlib\n",
    "3. TensorFlow"
   ]
  },
  {
   "cell_type": "markdown",
   "id": "14fb3184-030d-4477-b70a-b64a5f98e79b",
   "metadata": {},
   "source": [
    "Data Science Tools"
   ]
  },
  {
   "cell_type": "markdown",
   "id": "a319c1a5-3f08-4d4f-b191-3261dd32290b",
   "metadata": {},
   "source": [
    "Below are a few examples of evaluating arithmetic expressions in Python."
   ]
  },
  {
   "cell_type": "code",
   "execution_count": 1,
   "id": "126cae0e-6f6d-434e-8508-a09b1a3967ab",
   "metadata": {
    "tags": []
   },
   "outputs": [
    {
     "data": {
      "text/plain": [
       "17"
      ]
     },
     "execution_count": 1,
     "metadata": {},
     "output_type": "execute_result"
    }
   ],
   "source": [
    "(3*4)+5"
   ]
  },
  {
   "cell_type": "code",
   "execution_count": 5,
   "id": "a65e57fa-fa25-4ded-a648-0e8af270ed7f",
   "metadata": {
    "tags": []
   },
   "outputs": [],
   "source": [
    "# This will convert 200 minutes to hours by diving by 60\n",
    "200 minutes hours"
   ]
  },
  {
   "cell_type": "markdown",
   "id": "47924533-69a7-4dbf-a696-85688af880f2",
   "metadata": {},
   "source": [
    "## Ozan Can Bagcivan"
   ]
  },
  {
   "cell_type": "code",
   "execution_count": null,
   "id": "63a40b15-1d7c-4aa8-9a97-ae870ab078f3",
   "metadata": {},
   "outputs": [],
   "source": []
  }
 ],
 "metadata": {
  "kernelspec": {
   "display_name": "Python",
   "language": "python",
   "name": "conda-env-python-py"
  },
  "language_info": {
   "codemirror_mode": {
    "name": "ipython",
    "version": 3
   },
   "file_extension": ".py",
   "mimetype": "text/x-python",
   "name": "python",
   "nbconvert_exporter": "python",
   "pygments_lexer": "ipython3",
   "version": "3.7.12"
  }
 },
 "nbformat": 4,
 "nbformat_minor": 5
}
